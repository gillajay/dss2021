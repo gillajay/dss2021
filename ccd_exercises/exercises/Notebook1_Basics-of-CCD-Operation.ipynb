{
 "cells": [
  {
   "cell_type": "markdown",
   "id": "1a2120cc",
   "metadata": {},
   "source": [
    "## **Notebook 1: Basics of CCD operation**\n",
    "\n",
    "*Learning outcomes*\n",
    "- We will learn about the theoretical basics of CCD operation in preparation for upcoming notebooks.\n",
    "\n",
    "## **Bucket brigade**\n",
    "The primary type of image sensor used in UV, optical, and IR astronomy is called a *charge-coupled device* (CCD). The CCD relies on the *photoelectric effect* to convert incoming light (photons) into electric charge. CCDs consist of a two dimensional array of elements called *pixels* to detect light.\n",
    "\n",
    "<img src=\"../plots/bucket.png\">\n",
    "\n",
    "Consider the *bucket brigade* analogy to describe CCD operation devised by Jerome Kristian and Morley Blouke. The brigthness distribution in a CCD image is like measuring the rainfall with an array of buckets. After the rain has stopped, the buckets in each row are shifted vertically across the array on conveyers belts. As the buckets in each column reach the end of the conveyer, they are emptied into another bucket system on a horizontal belt that transfers the buckets to a measuring station, where the amount of rain per bucket (or charge per pixel) is measured. \n",
    "\n",
    "- In CCDs, the charge per pixel is transferred to a capacitor. \n",
    "- The capacitance (C) of the capacitor, and the charge within the pixel (Q), and the voltage (V) across the capacitor, and the number of electrons (N) are related to each other by\n",
    "\n",
    "\\begin{equation}\n",
    "Q = CV = Ne^{-}\n",
    "\\end{equation}\n",
    "\n",
    "- The voltage across the capacitor is then measured. The voltage is typically amplifier twice (first by an internal amplifier in the sensor and then by an external amplifier). \n",
    "- The output voltage of the external amplifier is then converted to an analog-to-digital unit (ADU) using an analog-to-digital converter (ADC). The ADU value per pixel is then read by the computer. \n",
    "\n",
    "## **Band theory of solids**\n",
    "In solid-state physics, the valence and conduction bands of a solid determine whether or not an electron can freely move within the material.\n",
    "\n",
    "- *Valence band*: band of the outermost electron orbitals (valence electrons) of an atom from which electrons can jump to the conduction band.\n",
    "- *Conduction band*: higher energy states in the solid. Once electrons are excited to the conduction band, they can **move freely** in the solid. \n",
    "- *Band gap*: difference between the top of the valence band and the bottom of the conduction band. The band gap ($E_{\\mathrm{g}}$) is the energy required to excite electrons from the valence to the conduction band. \n",
    "\n",
    "There are three types of solids:\n",
    "- *Insulators*: the band gap is large, and a large amount of energy is required to excite electrons from the valence to the conduction bands.\n",
    "- *Conductors (or metals)*: the valence and conduction bands overlap, so they are good conductors of charge.\n",
    "- *Semiconductors*: the band gap is narrow, so valence electrons can be easily excited to the conduction band. \n",
    "\n",
    "The figure below shows the band diagram of an (a) insulator (diamond), (b) semiconductor (silicon), and (c) metal.\n",
    "\n",
    "<img src=\"../plots/band_diagram.png\">\n",
    "\n",
    "## **Quantum efficiency**\n",
    "- CCDs are typically fabricated using silicon, which has a band gap energy of $\\sim$ 1.1 eV. \n",
    "- Photons with energies between 1.1 to 3.1 eV (400 nm to 700 nm) will generate a single electron-hole pair. This wavelength range covers the near-infrared and the visible spectrum.\n",
    "- Photons with energies > 3.1 eV ($\\lambda$ < 400 nm) will generate multiple electron-hole pairs, when the energetic conduction band electron collides with other valence electrons.\n",
    "- The quantum efficiency of a CCD is a parameter that informs how well the CCD can convert incoming photons into measurable photoelectrons. It is defined as\n",
    "\n",
    "\\begin{equation}\n",
    "\\text{QE} = \\eta_{i} \\times \\text{QE}_{I}\n",
    "\\end{equation}\n",
    "\n",
    "- where QE$_{I}$ is the interacting QE [fraction of incoming photons that interact with the CCD], $\\eta_{i}$ is the quantum yield [number of photoelectrons generated per interacting photon].\n",
    "\n",
    "Now that we have covered the basic operation of a CCD, we will move to **Notebook 2: Noise in CCD images**."
   ]
  }
 ],
 "metadata": {
  "kernelspec": {
   "display_name": "Python 3",
   "language": "python",
   "name": "python3"
  },
  "language_info": {
   "codemirror_mode": {
    "name": "ipython",
    "version": 3
   },
   "file_extension": ".py",
   "mimetype": "text/x-python",
   "name": "python",
   "nbconvert_exporter": "python",
   "pygments_lexer": "ipython3",
   "version": "3.7.10"
  }
 },
 "nbformat": 4,
 "nbformat_minor": 5
}
