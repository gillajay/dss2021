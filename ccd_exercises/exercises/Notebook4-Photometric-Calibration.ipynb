{
 "cells": [
  {
   "cell_type": "markdown",
   "id": "b3c91e91",
   "metadata": {},
   "source": [
    "## **Notebook 4: Photometric Calibration of Realistic Image**\n",
    "*Learning outcomes*\n",
    "- We will learn about astronomical magnitude systems and how to use the flux density (or spectral energy distribution) of a star.\n",
    "- We will learn about how to construct a bandpass of an instrument by combining multiple instrument components such as:\n",
    "    - The telescope throughput\n",
    "    - The camera quantum efficiency\n",
    "    - The filter response\n",
    "- We will then use realistic images of a g2v spectral type star observed by our instrument.\n",
    "- We will clean the images using calibration frames.\n",
    "- We will then estimate the sky background level in digital units. \n",
    "- Knowing the spectral type of the star and the observed count rate, we will then estimate the *sensitivity* of the instrument in different instrument bands.\n",
    "- Knowing the sensitivity, we will then estimate the brightness of the star as well as the night sky background in physical units in different instrument bands."
   ]
  },
  {
   "cell_type": "code",
   "execution_count": null,
   "id": "066d2c2f",
   "metadata": {},
   "outputs": [],
   "source": [
    "import numpy as np\n",
    "import pandas as pd\n",
    "\n",
    "import matplotlib.pyplot as plt\n",
    "from matplotlib import rc\n",
    "plt.rcParams.update({'font.size': 20})\n",
    "\n",
    "from astropy.constants import c, h\n",
    "from astropy.io import fits\n",
    "from astropy import units as u\n",
    "\n",
    "import useful_functions as conv_funcs"
   ]
  },
  {
   "cell_type": "markdown",
   "id": "ad8369f4",
   "metadata": {},
   "source": [
    "## **Photometry overview**\n",
    "### **What is photometry?**\n",
    "- Photometry is a technique used in astronomy to measure the flux or brightness of light emitted by astronomical sources.\n",
    "\n",
    "### **Astronomical magnitude systems**\n",
    "- The flux density (flux per unit wavelength or frequency interval) radiated by an astronomical object is typically expressed in two ways:\n",
    "    1) Wavelength dependent flux density, $f_{\\lambda}$ [erg/s/cm$^{2}$/nm]\n",
    "    2) Frequency dependent flux density, $f_{\\nu}$ [erg/s/cm$^{2}$/Hz]\n",
    "- Astronomical magnitude systems are used to express the brightness of sources. Some examples are: (i) Vega magnitude system, (ii) Johnson magnitude system, and the (iii) AB magnitude system. \n",
    "- The AB magnitude system is an astronomical magnitude system based on flux density measurements that are calibrated in absolute units. In this notebook, we will use the AB magnitude system. \n",
    "- The AB magnitude system is defined such that when monochromatric flux density ($\\bar{f_{\\nu}}$) is measured in units of [erg/s/cm$^{2}$/Hz], then\n",
    "\n",
    "\\begin{equation}\n",
    "m_{\\rm AB} = -2.5 \\log_{10}{\\bar{f_{\\nu}}} - 48.60\n",
    "\\end{equation}\n",
    "\n",
    "- Given the bandpass of the instrument, $R(\\lambda)$, the statistical mean of the flux density, $\\bar{f_{\\lambda}}$ is given by\n",
    "\n",
    "\\begin{equation}\n",
    "\\bar{f_{\\lambda}} = \\frac{\\int_{\\lambda} f_{\\lambda} R(\\lambda) \\; \\lambda d\\lambda}{\\int_{\\lambda} R(\\lambda)\\;  \\lambda d\\lambda}\n",
    "\\end{equation}\n",
    "\n",
    "- Using the *pivot wavelength* $\\lambda_{p}$, one can convert from $\\bar{f_{\\nu}}$ and $\\bar{f_{\\lambda}}$\n",
    "\n",
    "\\begin{equation}\n",
    "\\lambda_{p}^{2} = \\frac{\\int_{\\lambda} R(\\lambda) \\;\\lambda d\\lambda}{\\int_{\\lambda} R(\\lambda) \\;d\\lambda/\\lambda} \n",
    "\\end{equation}\n",
    "\n",
    "\\begin{equation}\n",
    "\\bar{f_{\\nu}} = \\frac{\\lambda_{p}^{2}}{c} \\times \\bar{f_{\\lambda}}\n",
    "\\end{equation}\n",
    "\n",
    "### **Spectral Energy Distribution of astronomical sources**\n",
    "- The spectral energy distribution (SED) or the flux density of an astronomical source refers to the amount of flux observed from the source per unit wavelength or per unit frequency interval. \n",
    "- The SED of astronomical sources can depend on various factors.\n",
    "    1) Stars and galaxies have different SEDs. Stars appear as point sources on the image, whereas galaxies are extended objects.\n",
    "    2) The SEDs of stars depends on the spectral type of the star, which in turn depends on the temperature and luminosity of the star. \n",
    "    3) The SEDs of galaxies are different depending on the type of galaxy: ellipticals, spirals, starburst galaxies, and irregulars.\n",
    "\n",
    "    The figure below shows the normalized SEDs of stars of different spectral types. \n",
    "    \n",
    "     <img src=\"../plots/specprf.png\">\n",
    "    \n",
    "\n",
    "### **Instrument bandpass**\n",
    "- The instrument bandpass provides information on how sensitive the instrument is at different wavelengths.\n",
    "- The overall instrument bandpass consists of the multiplication of the transmission of different components in the instrument, including (but not limited to):\n",
    "    1) *Telescope throughput*: this is the transmission of light through the telescope as a function of wavelength.\n",
    "    2) *Camera quantum efficiency*: this is the sensitivity of the camera as a function of wavelength.\n",
    "    3) *Filter transmission*: this is the transmission of light of a filter as a function of wavelength.\n",
    "- Other components are often also necessary, such as the transmission of specific coatings on mirrors. \n",
    "\n",
    "The instrument parameters for our instrument that we will use for this notebook are:\n",
    "- *Telescope diameter*: 0.5 meter\n",
    "- *Telescope focal length*: 5500 mm\n",
    "- *Camera gain*: 0.76 [electrons/ADU]\n",
    "- *Camera dark current*: 0.1 [electon/sec/pixel]\n",
    "- *Camera read noise*: 10 [e/pixel] (rms)\n",
    "- *Camera full well capacity*: 50000\n",
    "- *Camera pixel size*: 4 micron x 4 micron\n",
    "- *Camera digitization resolution*: 16 bits\n",
    "- *Camera bias level*: 200 ADU"
   ]
  },
  {
   "cell_type": "markdown",
   "id": "ba2738b0",
   "metadata": {},
   "source": [
    "### **Camera quantum efficiency**\n",
    "- Below, we will plot the quantum effiency of the camera. To do so, we will make use of the `pandas` Python package.\n",
    "- The instrument transmission data files for this notebook are located in `data/instrument/` from 300 nm to 1100 nm in 1 nm increments."
   ]
  },
  {
   "cell_type": "code",
   "execution_count": null,
   "id": "78617c56",
   "metadata": {},
   "outputs": [],
   "source": [
    "# Camera\n",
    "camera = pd.read_csv(\"../data/instrument/camera/camera.csv\")\n",
    "camera_wave = camera['wavelength'].values\n",
    "camera_trans = camera['transmission'].values\n",
    "\n",
    "plt.figure(figsize=(8, 4))\n",
    "plt.plot(camera_wave, \n",
    "         camera_trans, \n",
    "         color='k',\n",
    "         label=\"Camera quantum efficiency\")\n",
    "plt.grid()\n",
    "plt.ylabel(\"Transmission\")\n",
    "plt.xlabel(\"Wavelength [nm]\")\n",
    "plt.legend(frameon=False)\n",
    "plt.tight_layout()\n",
    "plt.show()"
   ]
  },
  {
   "cell_type": "markdown",
   "id": "7e78b25c",
   "metadata": {},
   "source": [
    "### **Exercise 1: Instrument bandpass**\n",
    "- Construct an overall instrument bandpass by multiplying the transmission of the (i) telescope, (ii) camera quantum efficiency, and (iii) filter transmission.\n",
    "- There are 5 filters for our instrument, $u$, $b$, $v$, $r$, and $i$. \n",
    "- Therefore, construct five instrument bandpasses, one for each filter.\n",
    "- Plot the 5 bandpasses on the same plot. \n",
    "    - Label the plot with legends.\n",
    "    - Choose plot line colors that go with the bands \n",
    "        - $u$: violet, $b$: blue, $v$:green, $r$:red, $i$:maroon\n",
    "- Which band has the highest peak transmission? \n",
    "- Which has the lowest peak transmission? What component causes the transmission to drop so significantly in the band with the lowest peak transmission?"
   ]
  },
  {
   "cell_type": "code",
   "execution_count": null,
   "id": "36975e40",
   "metadata": {},
   "outputs": [],
   "source": [
    "# Solution to Exercise 1\n",
    "# Telescope\n",
    "telescope = pd.read_csv(\"../data/instrument/telescope/telescope.csv\")\n",
    "telescope_wave = telescope['wavelength'].values\n",
    "telescope_trans = telescope['transmission'].values\n",
    "\n",
    "# continue here for the camera\n",
    "# Camera\n",
    "\n",
    "\n",
    "# Filters\n",
    "uv = pd.read_csv(\"../data/instrument/filters/u.csv\")\n",
    "u_wave = uv['wavelength'].values\n",
    "u_trans = uv['transmission'].values\n",
    "\n",
    "# continue here to read the other filters\n"
   ]
  },
  {
   "cell_type": "markdown",
   "id": "170aaded",
   "metadata": {},
   "source": [
    "### **Convenience functions**\n",
    "- Below, we have three functions that will be useful to us later in the notebook.\n",
    "    1) `mean_flambda_from_flambda`:\n",
    "        - The function takes as input a flux density array `flambda`, instrument bandpass `bandpass`, and a `wavelengths` array.\n",
    "        - The function returns the statistical mean of the *wavelength* dependent flux density in that band. \n",
    "    2) `pivot_wavelength`:\n",
    "        - The function takes as input a `bandpass` array and a `wavelengths` array.\n",
    "        - The function returns the *pivot wavelength* in that band.\n",
    "    3) `mean_fnu_from_flambda_pivot`:\n",
    "        - The function takes as input a flux density array `flambda`, instrument bandpass `bandpass`, and an `wavelengths` array.\n",
    "        - The function returns the statistical mean of the *frequency* dependent flux density in that band. "
   ]
  },
  {
   "cell_type": "code",
   "execution_count": null,
   "id": "796e8237",
   "metadata": {},
   "outputs": [],
   "source": [
    "def mean_flambda_from_flambda(flambda,\n",
    "                              bandpass,\n",
    "                              wavelengths):\n",
    "    \"\"\"\n",
    "    Calculates the mean of the flux density in a band.\n",
    "    inputs:\n",
    "    1) flambda (numpy array): flux density array [erg/s/cm^2/nm]\n",
    "    2) bandpass (numpy array): instrument bandpass in a given band\n",
    "    3) wavelengths (numpy array): wavelengths over which the bandpass\n",
    "        and flambda is defined\n",
    "    outputs:\n",
    "    1) flambda_mean (float): mean of the flux density [erg/s/cm^2/nm]\n",
    "    \"\"\"\n",
    "    flambda *= u.erg/u.s/u.cm**2/u.nm\n",
    "    wavelengths *= u.nm \n",
    "    \n",
    "    del_lam = ((np.max(wavelengths) - np.min(wavelengths)) \n",
    "             / len(wavelengths))\n",
    "\n",
    "    numerator = np.trapz(y=bandpass*flambda*wavelengths,\n",
    "                         x=wavelengths,\n",
    "                         dx=del_lam)\n",
    "    denominator = np.trapz(y=wavelengths*bandpass,\n",
    "                           x=wavelengths,\n",
    "                           dx=del_lam)\n",
    "    flambda_mean = (numerator/denominator).to(u.erg/u.s/u.cm**2/u.nm).value\n",
    "    return flambda_mean\n",
    "\n",
    "def pivot_wavelength(bandpass,\n",
    "                     wavelengths): \n",
    "    \"\"\"\n",
    "    Calculates the pivot wavelength in a given band.\n",
    "    inputs:\n",
    "    1) bandpass (numpy array): instrument bandpass in a given band\n",
    "    2) wavelengths (numpy array): wavelengths over which the bandpass\n",
    "        and flambda is defined\n",
    "    outputs:\n",
    "    1) pivot_wave (float): pivot wavelength [nm]\n",
    "    \"\"\"\n",
    "    wavelengths *= u.nm \n",
    "    integrand_num = bandpass * wavelengths\n",
    "    integrand_den = bandpass / wavelengths\n",
    "\n",
    "    del_lam =((np.max(wavelengths) - np.min(wavelengths)) \n",
    "               / len(wavelengths))\n",
    "\n",
    "    numerator = (np.trapz(y=integrand_num, \n",
    "                          x=wavelengths,\n",
    "                          dx=del_lam))\n",
    "\n",
    "    denominator = (np.trapz(y=integrand_den, \n",
    "                            x=wavelengths,\n",
    "                            dx=del_lam))\n",
    "\n",
    "    pivot_wave = np.sqrt(numerator/denominator)\n",
    "\n",
    "    return pivot_wave.to(u.nm).value\n",
    "\n",
    "def mean_fnu_from_flam_pivot(flambda,\n",
    "                             bandpass,\n",
    "                             wavelengths):\n",
    "    \"\"\"\n",
    "    Calculates the mean of the flux density [erg/s/cm^2/Hz]\n",
    "    given the bandpass, wavelengths, and the wavelength dependent\n",
    "    flux density [erg/s/cm^2/nm]\n",
    "    inputs:\n",
    "    1) flambda (numpy array): flux density array [erg/s/cm^2/nm]\n",
    "    2) bandpass (numpy array): instrument bandpass in a given band\n",
    "    3) wavelengths (numpy array): wavelengths over which the bandpass\n",
    "        and flambda is defined\n",
    "    outputs:\n",
    "    1) mean_fnu (float): mean of the flux density [erg/s/cm^2/Hz]\n",
    "    \"\"\"\n",
    "    \n",
    "    mean_flambda = mean_flambda_from_flambda(flambda=flambda,\n",
    "                                             bandpass=bandpass,\n",
    "                                             wavelengths=wavelengths)\n",
    "    mean_flambda *= (u.erg/u.s/u.cm**2/u.nm)\n",
    "    \n",
    "    piv_wave = pivot_wavelength(bandpass=bandpass,\n",
    "                               wavelengths=wavelengths)\n",
    "    piv_wave *= u.nm\n",
    "    \n",
    "    mean_fnu = (piv_wave**2 / c) * mean_flambda\n",
    "    return mean_fnu.to(u.erg/u.s/u.cm**2/u.Hz).value"
   ]
  },
  {
   "cell_type": "markdown",
   "id": "fb217789",
   "metadata": {},
   "source": [
    "### **Exercise 2: flux density ($\\bar{f_{\\nu}}$) to AB magnitude converter function**\n",
    "- Using the definition of AB magnitude provided in `Astronomical magnitude systems` above\n",
    "- Write a function called `fnu_to_abmag`\n",
    "- The function should take as input:\n",
    "    1) `mean_fnu`: (float)\n",
    "        - Statistical mean of the frequency dependent flux density, $\\bar{f_{\\nu}}$ in units of [erg/s/cm$^{2}$/Hz]\n",
    "- The function should return:\n",
    "    1) `ab_mag`: (float)\n",
    "        - The AB magnitude correponsding to the mean of the frequency dependent flux density."
   ]
  },
  {
   "cell_type": "code",
   "execution_count": null,
   "id": "09cb817e",
   "metadata": {},
   "outputs": [],
   "source": [
    "# Solution to Exercise 2\n",
    "def fnu_to_abmag(mean_fnu):\n",
    "    \"\"\"\n",
    "    Convert flux density [erg/s/cm^2/Hz] to ABmag\n",
    "    input:\n",
    "    1) mean_fnu (float): mean of the flux density [erg/s/cm^2/Hz]\n",
    "    return:\n",
    "    1) ab_mag (float): AB magnitude corresponding to mean_fnu\n",
    "    \"\"\"\n",
    "    # continue here"
   ]
  },
  {
   "cell_type": "markdown",
   "id": "661e9291",
   "metadata": {},
   "source": [
    "### **Exercise 3: Spectral Energy Distribution of the star**\n",
    "- Later in this notebook, we will perform photometric calibration of realistic images of a g2v type star (in 5 different bands).\n",
    "- Plot the SED (or flux density) of the star. \n",
    "- The flux density [erg/s/cm$^{2}$/nm] as a function of wavelength [nm] data for the stars is given in `../data/star_spectra/g2v_spectrum.csv`.\n",
    "- In which band does the SED peak in?"
   ]
  },
  {
   "cell_type": "code",
   "execution_count": null,
   "id": "c9c7e3e6",
   "metadata": {},
   "outputs": [],
   "source": [
    "# Solution to Excerise 3"
   ]
  },
  {
   "cell_type": "markdown",
   "id": "aee87e62",
   "metadata": {},
   "source": [
    "## **Photometric calibration of single $u$-band image**\n",
    "- Below, we will perform photometric calibration on a realistic image of a g2v-type star observed in the $u$-band of our instrument. \n",
    "- First, we will open the raw image and plot it using the `plot_image` convenience function\n",
    "- The simulated image is in `../data/star_image/g2v/u.fits`"
   ]
  },
  {
   "cell_type": "code",
   "execution_count": null,
   "id": "95363ff2",
   "metadata": {},
   "outputs": [],
   "source": [
    "# Step 1: Open the raw image and plot it using \n",
    "band = 'u'\n",
    "source = 'g2v'\n",
    "bandpass = u_tot\n",
    "wavelengths = u_wave\n",
    "exposure_time = 100 # seconds\n",
    "\n",
    "raw = fits.open(\"../data/star_image/\"+source+'/'+band+'.fits')[0].data\n",
    "conv_funcs.plot_image(raw, title='Raw '+band+'-band image of ' +source+ ' star')"
   ]
  },
  {
   "cell_type": "markdown",
   "id": "7ba0a177",
   "metadata": {},
   "source": [
    "- The raw images contains dark current, hot pixels, a bias level (and bad bias columns), sky noise, and read noise. We will need to clean the image before we can perform photometeric calibration on the star to find its observed brightness.\n",
    "\n",
    "### **Exercise 4: Dark current subtraction**\n",
    "- A master dark frame (with the same 100 second exposure time) as the raw image is available under `../data/calibration_images/dark.fits`.\n",
    "- Open and plot the dark frame. \n",
    "- Note that dark frame also contains the bias features, so we do not need to subtract the bias frame from the raw image separately.\n",
    "- Subtract the dark frame from the raw image. Plot the dark subtracted raw image. \n",
    "- What is the difference between the raw image and the raw image after it has been dark subtracted?"
   ]
  },
  {
   "cell_type": "code",
   "execution_count": null,
   "id": "e98528c1",
   "metadata": {},
   "outputs": [],
   "source": [
    "# Solution to Exercise 4"
   ]
  },
  {
   "cell_type": "markdown",
   "id": "4b5ba226",
   "metadata": {},
   "source": [
    "### **Exercise 5: Flat field correction**\n",
    "- A master flat field (which informs us about the pixel-to-pixel variations across the CCD) is also available under `../data/calibration_images/flat.fits`.\n",
    "- The master flat field image has already been normalized and dark subtracted.\n",
    "- Open and plot the flat field image.\n",
    "- Divide the dark subtracted image by the flat field to get to our dark and flat corrected image.\n",
    "- Plot the dark and flat corrected image."
   ]
  },
  {
   "cell_type": "code",
   "execution_count": null,
   "id": "2d41ae9a",
   "metadata": {},
   "outputs": [],
   "source": [
    "# Solution to Exercise 5"
   ]
  },
  {
   "cell_type": "markdown",
   "id": "6aea1df5",
   "metadata": {},
   "source": [
    "### **Exercise 6: Sky background estimation and subtraction**\n",
    "- After the raw image has been dark subtracted and flat field corrected, we need to remove the sky background noise component from the image.\n",
    "- To estimate the sky background level in the image, we will perform 3-sigma clipping. \n",
    "    - This means that we will remove all values in our images that are $\\pm 3\\sigma$ away from the mean.\n",
    "    - To do so, we will use the convenient function called `sigma_clip` from the `astropy.stats` module.\n",
    "- Import the `sigma_clip` function from the `astropy.stats` module.\n",
    "- Set the `data` parameter to the flat field corrected image from the previous step.\n",
    "- Set the `sigma` parameter to `3`.\n",
    "- Set the `maxiters` paramter to `None`.\n",
    "- Plot the histogram of the sigma clipped data. \n",
    "- We will take the mean of the sigma clipped data as the estimate for the sky background level (in ADU units).\n",
    "- Print the mean of the sigma clipped data.\n",
    "- Subtract the mean background level form the dark and flat-field corrected image to get to our final *cleaned* image.\n",
    "- Plot the cleaned image"
   ]
  },
  {
   "cell_type": "code",
   "execution_count": null,
   "id": "aa578a92",
   "metadata": {},
   "outputs": [],
   "source": [
    "# Solution to Exercise 6\n",
    "from astropy.stats import sigma_clip\n",
    "\n",
    "# continue here"
   ]
  },
  {
   "cell_type": "markdown",
   "id": "9e302fd1",
   "metadata": {},
   "source": [
    "### **Exercise 7: Instrument sensitivity calculation**\n",
    "- If the instrument bandpass and the SED of the source is known, we can calculate the sensitivity of each given band.\n",
    "- From the discussion in `Astronomical magnitude systems` above, we saw that we calculate the mean of the frequency dependent flux density in a given band, provided we know the instrument bandpass in that band and the SED of the source.\n",
    "- From the *cleaned* image, we can also calculate the ADU count rate observed for the source.\n",
    "- Then, we can define a sensitivity parameter called $\\alpha$ defined as\n",
    "\n",
    "\\begin{equation}\n",
    "\\alpha = \\frac{\\text{electron/s} \\;\\text{from the source}}{\\bar{f_{\\nu}}\\; \\text{from the source}} = \\frac{\\text{[electron/s]}}{\\text{[erg/s/cm$^{2}$/Hz]}}\n",
    "\\end{equation}\n",
    "\n",
    "- Therefore, a higer $\\alpha$ would indicate a higher instrument sensivity in that band, in that more electrons are generated and detected for a higher alpha for the same mean flux density.\n",
    "- Therefore, to calculate the sensitivity, we need two quantities.\n",
    "    1) Count rate of source\n",
    "        - To estimate the count rate of the source, we will use the `Cutout2D` module of `astropy`. \n",
    "        - Import the module using `from astropy.nddata import Cutout2D`\n",
    "        - Set `position = (505, 505)` since the source is simulated to be at the center of the image\n",
    "        - Set `size = (5,5)`\n",
    "        - Define `cutout = Cutout2D(clean, position, size)`, where clean is the cleaned image\n",
    "        - Plot the cutout data (which can be accessed by `cutout.data`)\n",
    "        - Sum all of the counts in the cutout. Hint: you can use `numpy.sum(cutout.data)`\n",
    "        - Estimate the count *rate* from the source by diving the counts by the exposure time, which is 100 seconds.\n",
    "    \n",
    "    2) Mean flux density\n",
    "        - To estimate the mean flux density of the source, use the `mean_fnu_from_flam_pivot` function defined above.\n",
    "        - For the `bandpass`, provide the transmission array of the bandpass (`u_tot` in this case).\n",
    "        - For the `wavelengths`, provide the wavelengths array of the bandpass (`u_wave` in this case).\n",
    "        - For the `flambda`, provide the wavelength dependent flux density array of the source (`g2v_flambda` in this case).\n",
    "- Convert the count rate from ADU/s to electron/s using the camera gain of 0.76 electron/ADU.\n",
    "- Take the ratio of the count rate and the mean flux density to estimate $\\alpha$.\n",
    "- Print and record the value of $\\alpha$ for this source and band. "
   ]
  },
  {
   "cell_type": "code",
   "execution_count": null,
   "id": "dc69fba8",
   "metadata": {},
   "outputs": [],
   "source": [
    "# Solution to Exercise 7\n",
    "from astropy.nddata import Cutout2D\n",
    "position = (505, 505)\n",
    "size = (5,5)\n",
    "cutout = Cutout2D(clean, position, size)\n",
    "\n",
    "# continue here"
   ]
  },
  {
   "cell_type": "markdown",
   "id": "52dbf796",
   "metadata": {},
   "source": [
    "### **Exercise 8: AB magnitude of the source**\n",
    "- Knowning $\\bar{f_{\\nu}}$, we can calculate the AB magnitude of the source.\n",
    "- Use the `fnu_to_abmag` function you wrote above to estimate the AB magnitude of the source.\n",
    "- Print and record the result."
   ]
  },
  {
   "cell_type": "code",
   "execution_count": null,
   "id": "6e9ddd25",
   "metadata": {},
   "outputs": [],
   "source": [
    "# Solution to Exercise 8"
   ]
  },
  {
   "cell_type": "markdown",
   "id": "afb2fd95",
   "metadata": {},
   "source": [
    "### **Exercise 9: AB magnitude of the sky background**\n",
    "- Knowing the background count rate, $\\alpha$, and the camera gain, we can also calculate the AB magnitude per pixel and AB magnitude per square arcseconds of the sky background for the different bands.\n",
    "- Take the mean background counts you calculated above and divide by the exposure time to get a mean background count rate in ADU/sec/pixel.\n",
    "- Divide the mean background count rate in [ADU/s/pixel] by ($\\alpha$ $\\times$ camera gain) to get the mean background frequency dependent flux density per pixel, $\\bar{f_{\\nu, \\,bkg}}$.\n",
    "- Given $\\bar{f_{\\nu, \\,bkg}}$  per pixel, calculate the AB magnitude of the sky background per pixel using the `fnu_to_abmag` converter function you wrote above.\n",
    "- To calculate the AB magnitude of the sky background per square arcseconds, we will need to calculate the plate scale of the instrument. \n",
    "- The plate scale of the instrument can be calculated by:\n",
    "\n",
    "\\begin{equation}\n",
    "P = \\frac{20626 \\times \\mu}{1000 \\times f}\n",
    "\\end{equation}\n",
    "\n",
    "where P is the plate scale [arcsecond/pixel], $\\mu$ is the camera pixel size [micron], and $f$ is the focal length of the telescope [mm].\n",
    "- Then, the mean background frequency dependent flux density per square arcsecond is simply $\\bar{f_{\\nu, \\,bkg}}$ per pixel divided by $P^{2}$.\n",
    "- Calculate, print, and record the AB magnitude of the sky background per square arcsecond."
   ]
  },
  {
   "cell_type": "code",
   "execution_count": null,
   "id": "8af75022",
   "metadata": {},
   "outputs": [],
   "source": [
    "# Solution to Exercise 9\n",
    "pixel_size = 4.5 # micron\n",
    "focal_length = 5500 # mm\n",
    "plate_scale = plate_scale = ((206265 * pixel_size) / (1000 * focal_length))\n",
    "\n",
    "# continue here"
   ]
  },
  {
   "cell_type": "markdown",
   "id": "80a03f8b",
   "metadata": {},
   "source": [
    "### **Exercise 10: Photometric Calibration of all instrument bands**\n",
    "- Repeat the above exercises for all bands. \n",
    "- You might find it easier to do so using a `for loop`.\n",
    "- For each band, print and record:\n",
    "    - The sensitivity parameter $\\alpha$\n",
    "    - The AB magnitude of the star\n",
    "    - The AB magnitude per square arcsecond of the sky background\n",
    "- Compare these three parameters for the different bands.\n",
    "- Which band is the most sensitive?\n",
    "- Which band has the darkest sky background level? Which band has the brightest? \n",
    "- How do your estimates compared to sky backgroud estimates at mountain-top ground-based observatories? (See for reference La Palma measurements: [Benn and Ellison 1998](https://ui.adsabs.harvard.edu/abs/1998NewAR..42..503B/abstract)) \n",
    "- Why could the sky be brighter in one band compared to the other?\n",
    "- The star appears brightest in which band? Dimmest?"
   ]
  },
  {
   "cell_type": "code",
   "execution_count": null,
   "id": "c4ba715c",
   "metadata": {},
   "outputs": [],
   "source": [
    "# Solution to Exercise 10\n",
    "\n",
    "# set up parameters\n",
    "exposure_time = 100\n",
    "pixel_size = 4.5 # micron\n",
    "focal_length = 5500 # mm\n",
    "plate_scale = plate_scale = ((206265 * pixel_size) / (1000 * focal_length))\n",
    "camera_gain = 0.76 #e-/ADU\n",
    "\n",
    "bands = ['u', 'b', 'v', 'r', 'i']\n",
    "\n",
    "trans_dict = {'u':u_tot,\n",
    "              'b':b_tot,\n",
    "              'v':v_tot,\n",
    "              'r':r_tot,\n",
    "              'i':i_tot}\n",
    "\n",
    "wavelengths = u_wave\n",
    "\n",
    "dark = fits.open(\"../data/calibration_images/dark.fits\")[0].data\n",
    "flat = fits.open(\"../data/calibration_images/flat.fits\")[0].data\n",
    "\n",
    "for band in bands:\n",
    "    bandpass = trans_dict[band]\n",
    "    # continue here\n"
   ]
  },
  {
   "cell_type": "markdown",
   "id": "cd510542",
   "metadata": {},
   "source": [
    "- The $b$ band is the most sensitive.\n",
    "- The $i$ band is the least sensitive.\n",
    "- The star appears brightest in the $i$ band and dimmest in the $u$ band. Even though $i$ is less sensitive, it has a broad band and captures the spectral energy distribution of the g2v star well. \n",
    "- The sky background is dimmest in the $b$ band and brightest in the $i$ band. The night sky tends to get brighter red-ward of blue due to airglow emission lines.\n",
    "- Typical values at La Palma (see [Benn and Ellison 1998](https://ui.adsabs.harvard.edu/abs/1998NewAR..42..503B/abstract)) are:\n",
    "    - $u$: 22.0, $b$: 22.7, $v$: 21.9, $r$:21.0, $i$: 20.0"
   ]
  }
 ],
 "metadata": {
  "kernelspec": {
   "display_name": "Python 3",
   "language": "python",
   "name": "python3"
  },
  "language_info": {
   "codemirror_mode": {
    "name": "ipython",
    "version": 3
   },
   "file_extension": ".py",
   "mimetype": "text/x-python",
   "name": "python",
   "nbconvert_exporter": "python",
   "pygments_lexer": "ipython3",
   "version": "3.7.10"
  }
 },
 "nbformat": 4,
 "nbformat_minor": 5
}
