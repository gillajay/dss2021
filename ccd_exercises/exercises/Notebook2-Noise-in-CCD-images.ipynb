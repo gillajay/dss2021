{
 "cells": [
  {
   "cell_type": "markdown",
   "id": "846b9ceb",
   "metadata": {},
   "source": [
    "## **Notebook 2: Noise in CCD images**\n",
    "\n",
    "*Learning outcomes*\n",
    "- We will learn about the different noise components that make up an astronomical CCD image:\n",
    "    - dark current\n",
    "    - read noise\n",
    "    - sky noise\n",
    "    - pixel-by-pixel sensitivity variations\n",
    "    - fixed pattern noise\n",
    "    - bias offset level\n",
    "- We will learn how all these different components combine in a real image.\n",
    "- We will study the effect of interactively changing different noise components on the image."
   ]
  },
  {
   "cell_type": "code",
   "execution_count": 1,
   "id": "3a1c3d06",
   "metadata": {},
   "outputs": [],
   "source": [
    "import numpy as np\n",
    "import math\n",
    "from matplotlib import pyplot as plt\n",
    "plt.rcParams.update({'font.size': 16})\n",
    "from useful_functions import plot_image"
   ]
  },
  {
   "cell_type": "markdown",
   "id": "5383b008",
   "metadata": {},
   "source": [
    "## **Blank image**\n",
    "To start, we will construct an empty image, consisting of a two-dimensional array of zeros. The camera we will use for the noise simulations has the following specifications:\n",
    "1) Number of active pixels: 1000 (Horizontal) $\\times$ 1000 (Vertical)\n",
    "2) Read noise: 10 electrons (root mean square).\n",
    "3) Dark current: 0.1 electrons/s/pixel at a temperature of 30$^{\\circ}$ C.\n",
    "4) Pixel full well capacity: 50,000 electrons (maximum number of electrons one pixel can hold).\n",
    "5) Pixel size: 4 $\\mu$m (Horizontal) $\\times$ 4 $\\mu$m (Vertical)\n",
    "6) Digital resolution: 16 bits"
   ]
  },
  {
   "cell_type": "code",
   "execution_count": 2,
   "id": "e630a67f",
   "metadata": {},
   "outputs": [
    {
     "data": {
      "image/png": "[encoded data removed]",
      "text/plain": [
       "<Figure size 720x720 with 2 Axes>"
      ]
     },
     "metadata": {
      "needs_background": "light"
     },
     "output_type": "display_data"
    }
   ],
   "source": [
    "# Construct a blank image\n",
    "pix_H = 1000 # number of active pixels in the horizontal direction\n",
    "pix_V = 1000 # number of active pixels in the vertical direction\n",
    "\n",
    "blank_image = np.zeros([pix_H, pix_V])\n",
    "\n",
    "# plot the empty image using the plot_image convenience function\n",
    "plot_image(image=blank_image,\n",
    "          title='Blank image')"
   ]
  },
  {
   "cell_type": "markdown",
   "id": "2860ad1f",
   "metadata": {},
   "source": [
    "## **Read noise**\n",
    "- Readout noise (or read noise) is the number of electrons introduced per pixel due to the readout of the device. \n",
    "- Read noise consists of two inseparable components:\n",
    "    1) The conversion of an analog signal (voltage across a capacitor) to a digital number (ADU) is not perfectly repeatable. Each on-chip amplifier and the analog-to-digital converter (ADC) will produce a statistical distribution of values that is centered around a mean value. So, even for the case of reading the same pixel twice (each time with identical charge), a slightly different answer may be produced. \n",
    "    2) The electronics themselves will introduce spurious electrons into the process, leading to random fluctuations in the output. \n",
    "\n",
    "- Read noise is roughly Gaussian distributed, where the *standard deviation* of the distribution is usually taken to be the read noise specification. \n",
    "- First, let's write a function to generate read noise. The function will take the read noise specification for the camera and the camera gain as the inputs. \n",
    "- The gain of the camera can be calculated using the full well capacity (number of electrons one pixel can hold) and number of bits used in the digitization. For our reference camera, the full well capacity is 50,000 electrons. The digitization resolution is 16 bits, so the gain is\n",
    "\n",
    "\\begin{equation}\n",
    "K = \\frac{\\text{Full well capacity}}{2^{\\text{bits}}-1} = \\frac{50000}{2^{16}-1} \\simeq \\text{0.76 [$e^{-}$/ADU]}\n",
    "\\end{equation}\n",
    "\n",
    "- This means that for every 0.76 electrons collected by a pixel, 1 ADU is registered after digitization for that pixel.\n",
    "- The function below will generate a different read noise array each time its run, so it operates like real read noise."
   ]
  },
  {
   "cell_type": "code",
   "execution_count": null,
   "id": "6a5f14c5",
   "metadata": {},
   "outputs": [],
   "source": [
    "def get_read_noise(image,\n",
    "                   read_noise_std,\n",
    "                   gain=1):\n",
    "    \"\"\"\n",
    "    Generate read noise 2D array.\n",
    "    \n",
    "    Parameters\n",
    "    input:\n",
    "    image: numpy array\n",
    "        Science image whose shape read noise array will match\n",
    "    read_noise_std: float\n",
    "        Read noise of the camera [electrons rms]\n",
    "    gain: float (optional)\n",
    "        Gain of the camera, [electrons/ADU]\n",
    "    output:\n",
    "        numpy array with read noise who shape matches input science \n",
    "        array\n",
    "    \"\"\"\n",
    "    array_shape = image.shape\n",
    "    read_noise_array = np.random.normal(loc=0,\n",
    "                                        scale=read_noise_std/gain,\n",
    "                                        size=array_shape)\n",
    "    return read_noise_array"
   ]
  },
  {
   "cell_type": "markdown",
   "id": "4b208489",
   "metadata": {},
   "source": [
    "### **Exercise 1: Read noise only image**\n",
    "- Using the read noise generating function above (`get_read_noise`), construct an image that contains read noise only.\n",
    "- In the `get_read_noise` function \n",
    "  - Provide the `blank_image` constructed above as the `image` parameter\n",
    "  - Provide the read noise and gain of the reference camera using the `read_noise_std` and `gain` parameters of the function.\n",
    "- Plot the read noise only image using the `plot_image` function\n",
    "  - Provide the `title` parameter of the `plot_image` function to be *'Read noise only'*.\n",
    "- Notice that the read noise corresponds to both positve and negative counts, as expected from a Gaussian distribution with zero mean.\n",
    "- Does the read noise depend on the exposure time of the camera? Why or why not?"
   ]
  },
  {
   "cell_type": "code",
   "execution_count": null,
   "id": "a3262318",
   "metadata": {},
   "outputs": [],
   "source": [
    "# Solution to Exercise 1\n",
    "camera_gain = 0.76 # electron/ADU\n",
    "read_noise_std = 10 # electrons RMS\n",
    "\n",
    "## continue here"
   ]
  },
  {
   "cell_type": "markdown",
   "id": "fc02fcd4",
   "metadata": {},
   "source": [
    "## **Bias**\n",
    "- To ensure the conversion from voltage to digital counts (ADU) always results in non-negative counts, an offset voltage (called the **bias level**) is added to each pixel. Adding a constant voltage results in adding a constant offset to the counts for each pixel, which leads to pixel values that are all positive (even for a read noise only image).\n",
    "- All CCD pixels will have a bias offset, and the bias level must be removed if the data values are to be truly representative of the counts recorded per pixel. In addition, there can be small variations in the bias level across the CCD pixels, and the bias level can also vary with time and temperature. It is also common to have certain columns and pixels in which the bias level is consistently offset from the rest of the chip.\n",
    "- These so-called *bad* columns are typically stable over time, which allows for their correction in real data.\n",
    "- A bias frame (or bias image) is an image taken with a zero exposure time to understand the bias level of the CCD.\n",
    "- Below, we create a function to generate a bias level array given the science image and the bias value to add. We also have optional arguments to include bad columns and how many bad columns to include, if so.\n",
    "- Does the bias level depend on the exposure time of the camera? Why or why not?"
   ]
  },
  {
   "cell_type": "code",
   "execution_count": null,
   "id": "9db36c8d",
   "metadata": {
    "tags": []
   },
   "outputs": [],
   "source": [
    "def get_bias_level(image,\n",
    "                   bias_value,\n",
    "                   add_bad_columns=True,\n",
    "                   num_columns=5):\n",
    "    \"\"\"\n",
    "    Generate simulated bias 2D array.\n",
    "    \n",
    "    Parameters\n",
    "    ----------\n",
    "    image: numpy array\n",
    "         Science image whose shape read noise array will match\n",
    "    bias_value: float\n",
    "         Bias value to add to the image [ADU]\n",
    "    add_bad_columns: bool, optional\n",
    "         Optional argument to add bad columns to the bias image. The\n",
    "         bad columns will have higher bias level than the other pixels.\n",
    "    num_columns: float\n",
    "         Number of bad columns to add. Default is 5.\n",
    "    output:\n",
    "        numpy array with the bias level with shape matches input science \n",
    "        array\n",
    "    \"\"\"\n",
    "    bias_im = np.zeros_like(image) + bias_value\n",
    "    \n",
    "    if add_bad_columns:\n",
    "        rng = np.random.RandomState(seed=23) \n",
    "\n",
    "        columns = rng.randint(0, image.shape[1], size=num_columns)\n",
    "        col_value = rng.randint(int(0.3*bias_value), \n",
    "                                int(.8*bias_value), \n",
    "                                size=image.shape[1])\n",
    "        \n",
    "        # Add additional brightness to random columns\n",
    "        for column in columns:\n",
    "            bias_im[:, column] = bias_value + col_value\n",
    "    return bias_im"
   ]
  },
  {
   "cell_type": "markdown",
   "id": "130bb7a9",
   "metadata": {},
   "source": [
    "### **Exercise 2: Bias only image**\n",
    "- Using the `get_bias_level` function above, construct an image with only the bias.\n",
    "- Set `add_bad_columns` to `True`.\n",
    "- Set the `bias_level` to 200.\n",
    "- Set the number of bad columns using `num_columns` to 5.\n",
    "- Plot the image"
   ]
  },
  {
   "cell_type": "code",
   "execution_count": null,
   "id": "1909411e",
   "metadata": {},
   "outputs": [],
   "source": [
    "# Solution of Exercise 2"
   ]
  },
  {
   "cell_type": "markdown",
   "id": "594c8265",
   "metadata": {},
   "source": [
    "## **Dark current**\n",
    "- Electrons are excited into the conduction band by incoming photons (from the astronomical source) due to the photoelectric effect. In addition to the photoelectric effect, however, it is also possible to create electron-hole pairs due to *thermal excitation* of electrons into the conduction band, which are then also collected within the potential well of a pixel. These additional electrons lead to the so-called **dark current** in the CCD image.\n",
    "- When the device is read out, these dark current electrons become part of the signal and are indistinguishable from electrons generated by photons from the astronomical source.\n",
    "- Thermal generation of electrons in silicon is a strong function of temperature of the CCD. Therefore, CCDs for astronomical use often requires some form of cooling.\n",
    "- CCDs are generally cooled with (i) liquid nitrogen, or (ii) thermoelectric cooling.\n",
    "- Dark current is typically small (less than 1 electrons/second/pixel) and follows the Poisson distribution.\n",
    "- For a small fraction of pixels, the dark current value is much greater than the rest of the pixels. Such pixels are called *hot pixels*. The dark current in hot pixels is stable over time, allowing for their subtraction in image cleaning. \n",
    "- Below, we write a function to simulate dark current that can be added to an image."
   ]
  },
  {
   "cell_type": "code",
   "execution_count": null,
   "id": "004b64d7",
   "metadata": {},
   "outputs": [],
   "source": [
    "def get_dark_current(image, \n",
    "                     dark_current,\n",
    "                     exposure_time,\n",
    "                     gain=1.0,\n",
    "                     hot_pixels=False,\n",
    "                     hot_pixels_percentage=0.1):\n",
    "    \"\"\"\n",
    "    Generate simulated dark current 2D array.\n",
    "    \n",
    "    Parameters\n",
    "    ----------\n",
    "    image: numpy array\n",
    "         Science image whose shape read noise array will match\n",
    "    dark_current: float\n",
    "         Dark current level [electrons/sec/pixel]\n",
    "    exposure_time: float\n",
    "         Exposure time of the image [seconds]\n",
    "    gain: float, optional\n",
    "         Camera gain [electron/ADU]\n",
    "    hot_pixels: bool, optional\n",
    "         Whether or not to add hot pixels to the image []\n",
    "    hot_pixels_percentage: float, optional\n",
    "         Percentage of hot pixels []\n",
    "    output:\n",
    "        numpy array with the dark current with shape matches the\n",
    "        input science array\n",
    "    \"\"\"\n",
    "    # get dark current level in ADU\n",
    "    dark_adu = dark_current * exposure_time / gain\n",
    "    \n",
    "    # create a 2D sampled from a Poisson distribution\n",
    "    dark_im = np.random.poisson(lam=dark_adu, size=image.shape)\n",
    "    \n",
    "    if hot_pixels:\n",
    "        y_max, x_max = dark_im.shape\n",
    "        n_hot = int((hot_pixels_percentage/100) * x_max * y_max)\n",
    "        \n",
    "        rng = np.random.RandomState(100)\n",
    "        hot_x = rng.randint(0, x_max, size=n_hot)\n",
    "        hot_y = rng.randint(0, y_max, size=n_hot)\n",
    "        \n",
    "        # set hot pixels to be 1000 times the dark current level\n",
    "        hot_current = 1000 * dark_current\n",
    "        \n",
    "        for i in range(n_hot):\n",
    "            dark_im[hot_x[i], hot_y[i]] = (hot_current  \n",
    "                                           * exposure_time / gain)\n",
    "    return dark_im"
   ]
  },
  {
   "cell_type": "markdown",
   "id": "8b64621c",
   "metadata": {},
   "source": [
    "### **Exercise 3: Dark current only image**\n",
    "- Using the `get_dark_current` function above, construct a dark current only image.\n",
    "- Take the `dark_current` to be 0.1 electron per second per pixel. \n",
    "- Take the `exposure_time` to be 100 seconds.\n",
    "- Plot the dark current only image.\n",
    "- Turn on and off `hot_pixels` to see their effect on the image.\n",
    "- Change the percentage of hot pixels by varying the `hot_pixels_percentage` parameter from 0.01% to 1%.\n",
    "- Change the `exposure_time` to smaller and larger values to see the affect of exposure time on dark current.\n",
    "- Does dark current increase or decrease with exposure time? Why?"
   ]
  },
  {
   "cell_type": "code",
   "execution_count": null,
   "id": "70e81d82",
   "metadata": {},
   "outputs": [],
   "source": [
    "# Solution to Exercise 3\n",
    "exposure_time = 100 # seconds\n",
    "dark_current = 0.1 # e-/s/pixel\n",
    "\n",
    "# continue here"
   ]
  },
  {
   "cell_type": "markdown",
   "id": "b302c032",
   "metadata": {},
   "source": [
    "## **Sky background**\n",
    "The background night sky itself can also add signal to the CCD image. There are various sources that comprise the total sky background (see [Leinert et al. 1997](https://ui.adsabs.harvard.edu/abs/1998A%26AS..127....1L/abstract) for further details). \n",
    "1) **Zodiacal light**\n",
    "- Caused by sunlight scattered from the diffuse cloud of interplanetary dust particles that lies primarily in the plane of the solar system.\n",
    "- Function of the viewing direction, wavelength, heliocentric distance, and the position\n",
    "of the observer relative to the symmetry plane of interplanetary dust.\n",
    "\n",
    "2) **Airglow**\n",
    "- Caused by the chemiluminescence of upper\n",
    "atmosphere atoms and molecules.\n",
    "- Function of zenith angle, local time, geographic latitude, season, solar activity, and\n",
    "altitude. \n",
    "\n",
    "3) **Integrated starlight**\n",
    "- Due to the combined light from unresolved stars in the Milky Way.\n",
    "- Depends on the ability for the telescope to resolve stars, which is set by its limiting magnitude. \n",
    "\n",
    "4) **Diffuse Galactic light**\n",
    "- Due to the diffuse component of the Galactic background radiation produced by scattering of starlight by interstellar dust. \n",
    "\n",
    "5) **Extragalactic background light**\n",
    "- Due to redshifted starlight from unresolved galaxies, stars or gas\n",
    "in intergalactic space, or redshifted emission from dust\n",
    "particles heated by starlight in galaxies can also contribute to the total sky background.\n",
    "\n",
    "Sky background noise is Poisson distributed. \n",
    "\n",
    "### **Exercise 4: Sky background noise generation function**\n",
    "- Using the `get_dark_current` function as a reference, write a function called `get_sky_bkg` that will generate add sky noise to an image. \n",
    "- The sky background level follows the Poisson distribution and increases with exposure time, just like the dark current.\n",
    "- The input parameters of the function should be:\n",
    "    - `image`: (numpy array) image whose shape the sky noise image will match.\n",
    "    - `sky_noise_electrons`: (float) sky noise level in [electrons per second per pixel].\n",
    "    - `exposure_time`: (float) exposure time of the image [seconds].\n",
    "    - `gain`: (float) gain of the camera [electron / ADU].\n",
    "- The function should return a numpy array that has the sky background added to each array element (or in other words, each pixel) in ADU units.\n",
    "- Using the function, plot a sky background only image for:\n",
    "    - `sky_noise_electrons` = 0.5 electrons per second per pixel\n",
    "    - `exposure_time` = 100 seconds"
   ]
  },
  {
   "cell_type": "code",
   "execution_count": null,
   "id": "aee815e0",
   "metadata": {},
   "outputs": [],
   "source": [
    "# Solution to Exercise 4\n",
    "def get_sky_bkg(image, \n",
    "                sky_noise_electrons,\n",
    "                exposure_time,\n",
    "                gain=1.0):    \n",
    "    \"\"\"\n",
    "    Generate simulated sky background 2D array.\n",
    "    Parameters\n",
    "    ----------\n",
    "    image: numpy array\n",
    "         Science image whose shape read noise array will match\n",
    "    sky_noise_electrons: float\n",
    "         Sky background level [electrons/sec/pixel]\n",
    "    exposure_time: float\n",
    "         Exposure time of the image [seconds]\n",
    "    gain: float, optional\n",
    "         Camera gain [electron/ADU]\n",
    "    output:\n",
    "        numpy array with the sky background with shape matches the\n",
    "        input science array\n",
    "    \"\"\"\n",
    "    sky_adu = sky_noise_electrons * exposure_time / gain\n",
    "    sky_im = np.random.poisson(lam=sky_adu, size=image.shape)\n",
    "    return sky_im\n",
    "\n",
    "camera_gain = 0.76 # electrons/ADU\n",
    "sky_noise_electrons = 0.5 # electrons/s/pixel\n",
    "\n",
    "sky_bkg_im = get_sky_bkg(image=blank_image,\n",
    "                         sky_noise_electrons=sky_noise_electrons,\n",
    "                         gain=camera_gain,\n",
    "                         exposure_time=100)\n",
    "\n",
    "plot_image(image=sky_bkg_im,\n",
    "           title='Sky background image only')"
   ]
  },
  {
   "cell_type": "markdown",
   "id": "be737904",
   "metadata": {},
   "source": [
    "### **Exercise 5: Flat field image**\n",
    "- All pixels on the CCD do not have the same intrinsic sensitivity to electromagnetic radiation. There are intrinsic differences in light sensitivity from pixel to pixel. These differences are at a few percent level at most.\n",
    "- Flat field images allow for the measurement of pixel-to-pixel variations in sensitivity across the CCD.\n",
    "- Flat field images also allow for the measurement of two other effects:\n",
    "    1) *Vignetting*: this is a reduction in the image's brightness near the edges of the image due to the optical system the CCD is attached to.\n",
    "    2) *Dust*: dust on elements in the optical path like filters, the glass window covering the CCD, and the CCD chip itself can also block light. This often leads to the appearance of \"donuts\" in the image.\n",
    "- Below, write a function `get_flat` that will provide uniformly distributed pixel-to-pixel sensitivity variations across the CCD.\n",
    "- The input parameters of the function should be:\n",
    "    - `image`: (numpy array) image whose shape the flat image will match\n",
    "    - `percent_variations`: (float) the maximum percentage of sensitivity variations between the pixels\n",
    "- Hint: the `numpy.randon.uniform` function is useful to sample from a uniform distribution, provided a `low` and `high` value to sample from, and the `size` or shape to return.\n",
    "- Plot the flat image."
   ]
  },
  {
   "cell_type": "code",
   "execution_count": null,
   "id": "9fa4ba0f",
   "metadata": {},
   "outputs": [],
   "source": [
    "# Solution to Exercise 5\n",
    "def get_flat(image,\n",
    "             percent_variations=5):\n",
    "    \"\"\"\n",
    "    Generate a flat field image.\n",
    "    \n",
    "    Parameters\n",
    "    ----------\n",
    "    image: numpy array\n",
    "         Science image whose shape read noise array will match\n",
    "    percent_variations: float, optional\n",
    "         Maximum percentage variation in pixel-to-pixel\n",
    "         sensitivity []\n",
    "    output:\n",
    "        numpy array with the flat field with a shape that matches the\n",
    "        input science array\n",
    "    \"\"\"\n",
    "    # create a random seed to generate the same random image each time\n",
    "    np.random.seed(0)\n",
    "    \n",
    "    # sample from a uniform distribution\n",
    "    flat = np.random.uniform(low=1-(percent_variations/100),\n",
    "                             high=1.0,\n",
    "                             size=image.shape)\n",
    "    return flat\n",
    "\n",
    "flat = get_flat(image=blank_image,\n",
    "                percent_variations=5)\n",
    "plot_image(flat, \n",
    "           title='Flat field image only',\n",
    "           interval_type='simple_norm',\n",
    "           stretch='linear')"
   ]
  },
  {
   "cell_type": "markdown",
   "id": "e89703a5",
   "metadata": {},
   "source": [
    "### **Exercise 6: Combined noise image**\n",
    "- The total image on the CCD is a combination of the different components discussed above.\n",
    "    - raw image = bias + read noise + dark current + flat $\\times$ (sky + stars)\n",
    "- Note that the pixel-by-pixel sensitivity variations reduce only the *incoming light* reaching the sensor. \n",
    "- Therefore, the flat image should be multiplied only the stars and sky components.\n",
    "- Now, we will construct a noise image that contains all the noise components discussed above.\n",
    "    - The image should include read noise, dark current, bias, and sky noise (with the pixel-to-pixel sensitivity variations included).\n",
    "    - *Exposure time*: choose an exposure time of 100 seconds.\n",
    "    - *Camera gain*: choose the camera gain to be 0.76 electrons per ADU.\n",
    "    - *Dark current*: choose the dark current to be 1 electrons per second per pixel. For simplicity, do not add hot pixels to the image.\n",
    "    - *Bias*: choose the bias level to be 200 ADU and include 5 bad columns.\n",
    "    - *Read noise*: choose the read noise to be 10 electrons RMS.\n",
    "    - *Sky noise*: choose the sky noise level to be 0.5 electrons per second per pixel. \n",
    "        - Multiply the sky noise level with a flat field image (assuming 5% uniformly distributed sensitivity pixel-by-pixel variations).\n",
    "        - Hint, you can use `numpy.multiply(im_sky_noise, im_flat)` to multiply the sky noise array with the flat field array.\n",
    "- Plot the combined noise image. Run the cell multiple times. Each iteration will generate a slightly different noise image."
   ]
  },
  {
   "cell_type": "code",
   "execution_count": null,
   "id": "45d24723",
   "metadata": {},
   "outputs": [],
   "source": [
    "# Solution to Exercise 6\n",
    "read_noise_std = 10 # electrons RMS\n",
    "bias_value = 200 # bias offset in ADU\n",
    "num_columns = 5 # number of bad bias columns\n",
    "dark_current = 0.1 # electrons/s/pixel\n",
    "sky_noise_electrons = 0.5 # electrons/s/pixel\n",
    "exposure_time = 100 # seconds\n",
    "percent_variations = 5 # percent\n",
    "camera_gain = 0.76 # electron/ADU\n",
    "\n",
    "# continue here\n",
    "\n"
   ]
  },
  {
   "cell_type": "markdown",
   "id": "c7f03f44",
   "metadata": {},
   "source": [
    "### **Exercise 7: Interactive noise image**\n",
    "- Now, we will interactively display the noise image for varying noise parameters, using the different functions we have already created.\n",
    "- We will use the `noise_image_interactive` function to do this. See `useful_functions.py` to see how the function works. This should lead to an interactive noise image.\n",
    "- Change the various parameter values by sliding the slider to see their effect on the total noise image."
   ]
  },
  {
   "cell_type": "code",
   "execution_count": 3,
   "id": "cd248fae",
   "metadata": {},
   "outputs": [
    {
     "data": {
      "application/vnd.jupyter.widget-view+json": {
       "model_id": "5701313cfd664a6198d537733e93b50c",
       "version_major": 2,
       "version_minor": 0
      },
      "text/plain": [
       "interactive(children=(IntSlider(value=200, description='bias_value', max=300, step=10), IntSlider(value=10, de…"
      ]
     },
     "metadata": {},
     "output_type": "display_data"
    }
   ],
   "source": [
    "# Exercise 7 setup\n",
    "from ipywidgets import interactive\n",
    "from useful_functions import noise_image_interactive\n",
    "\n",
    "noise_demo = interactive(noise_image_interactive, \n",
    "                   exposure_time=(0, 300, 20),\n",
    "                   read_noise_std=(0, 20, 1),\n",
    "                   dark_current=(0.0,3,0.1),\n",
    "                   hot_pixels=False,\n",
    "                   hot_pixels_percentage=(0, 1, 0.01),\n",
    "                   bias_value=(0, 300, 10), \n",
    "                   num_bad_columns=(0, 10, 1),\n",
    "                   sky_noise_electrons=(0, 5.1, 0.1),\n",
    "                   percent_variations=(0,10,1),\n",
    "                   plot_scale=['linear', \n",
    "                               'log',\n",
    "                               'zscale',\n",
    "                               'sqrt'])\n",
    "\n",
    "for demo in noise_demo.children:\n",
    "    try:\n",
    "        demo.continuous_update = True\n",
    "    except KeyError:\n",
    "        pass\n",
    "noise_demo"
   ]
  },
  {
   "cell_type": "code",
   "execution_count": null,
   "id": "8b80625e",
   "metadata": {},
   "outputs": [],
   "source": []
  }
 ],
 "metadata": {
  "kernelspec": {
   "display_name": "Python 3",
   "language": "python",
   "name": "python3"
  },
  "language_info": {
   "codemirror_mode": {
    "name": "ipython",
    "version": 3
   },
   "file_extension": ".py",
   "mimetype": "text/x-python",
   "name": "python",
   "nbconvert_exporter": "python",
   "pygments_lexer": "ipython3",
   "version": "3.7.10"
  }
 },
 "nbformat": 4,
 "nbformat_minor": 5
}
