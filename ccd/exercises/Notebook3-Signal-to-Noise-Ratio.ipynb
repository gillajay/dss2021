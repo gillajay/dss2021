{
 "cells": [
  {
   "cell_type": "markdown",
   "id": "c21f0f51",
   "metadata": {},
   "source": [
    "## **Notebook 3: Signal-to-Noise Ratio**\n",
    "*Learning outcomes*\n",
    "- We will learn about what the signal-to-noise ratio (SNR) is.\n",
    "- We will learn about the different components that lead to the calculation of the SNR.\n",
    "- We will study the impact of changing the exposure time of your observation on the SNR.\n",
    "- We will study the how the SNR changes for one long exposure compared to multiple short exposures.\n",
    "- We will interactively vary the parameters in the SNR calculation, to see which parameters dominate. "
   ]
  },
  {
   "cell_type": "code",
   "execution_count": 1,
   "id": "27cffa26",
   "metadata": {},
   "outputs": [],
   "source": [
    "import numpy as np\n",
    "from matplotlib import pyplot as plt\n",
    "plt.rcParams.update({'font.size': 16})\n",
    "\n",
    "from convenience_functions import plot_image"
   ]
  },
  {
   "cell_type": "markdown",
   "id": "546cf719",
   "metadata": {},
   "source": [
    "- The signal-to-noise ratio (SNR) is a quantitity used to estimate the quality with which an astronomical source can be detected. \n",
    "- For a point source, the SNR per pixel is given by\n",
    "\n",
    "\\begin{equation}\n",
    "\\text{SNR} = \\frac{S_{s} t \\, n_{\\rm exp}}{{(S_{s}t\\, n_{\\rm exp} + S_{b} \\,t \\, n_{\\rm exp} + S_{d}\\,t \\, n_{\\rm exp} + R^{2} \\, n_{\\rm exp})}^{1/2}}\n",
    "\\tag{1}\n",
    "\\end{equation}\n",
    "\n",
    "- $S_{s}$: the total number of electrons per second per pixel from the source [electrons/sec]\n",
    "- $S_{b}$: the number of electrons per second per pixel from the sky background [electrons/sec/pixel]\n",
    "- $S_{d}$: the number of electrons per second per pixel due to dark (thermally excited) current [electrons/sec/pixel]\n",
    "- $R$ is the read noise (Gaussian distributed) due to the inherent process of reading the charge on a capacitor to convert to voltage, which then gets digitized to an analog-to-digital-unit (ADU) [electrons/pixel]\n",
    "- $n_{\\rm exp}$ is the number of exposuresthe number of electrons per second per pixel due to dark (thermally excited) current [electrons/sec/pixel]\n",
    "- $t$ is the exposure time per exposure"
   ]
  },
  {
   "cell_type": "markdown",
   "id": "d1b7fb4a",
   "metadata": {},
   "source": [
    "### **Exercise 1: Signal-to-Noise-Ratio Calculator**\n",
    "- Write a function called `get_SNR` that calculates the SNR using the above equation.\n",
    "- The inputs of the function should be:\n",
    "    - `source_count_rate`: (float) the total number of electrons per second per pixel from the source [electrons/sec]\n",
    "    - `sky_noise`: (float) the number of electrons per second per pixel from the sky background [electrons/sec/pixel]\n",
    "    - `dark_current`: (float) the number of electrons per second per pixel due to dark (thermally excited) current [electrons/sec/pixel]\n",
    "    - `read_noise`: (float) [electrons/pixel]\n",
    "    - `exposure_time`: (float) the exposure time for each exposure [seconds]\n",
    "    - `n_exp`: (int) total number of exposure []\n",
    "- The function should return the (float) SNR."
   ]
  },
  {
   "cell_type": "code",
   "execution_count": 2,
   "id": "61e7ab74",
   "metadata": {},
   "outputs": [],
   "source": [
    "# Solution to Exercise 1"
   ]
  },
  {
   "cell_type": "markdown",
   "id": "790fc235",
   "metadata": {},
   "source": [
    "### **Exercise 2: SNR as a function of exposure time (single long exposure)**\n",
    "- Using the `get_SNR` from Exercise 1, plot the SNR as a function of exposure time for a single long exposure by the camera.\n",
    "- Choose a source count rate of 0.5 [electrons/s/pixel]\n",
    "- Choose a background count rate of 0.5 [electrons/s/pixel]\n",
    "- Choose a dark current of 0.1 [electrons/s/pixel]\n",
    "- Choose a read noise of 10 [electrons/pixel]\n",
    "- Choose a single long exposure (ie `n_exp` = 1) rather than multiple short exposures.\n",
    "- Vary the `exposure_time` from 0 to 500 seconds in increments of 5 seconds.\n",
    "    - Hint, you may find the `numpy.arange` and `numpy.append` functions useful for this exercise.\n",
    "- Plot SNR (y-axis) and exposure time (x-axis).\n",
    "- Does the SNR increase or decrease with exposure time? Is the increase or decrease linear? Why or why not?"
   ]
  },
  {
   "cell_type": "code",
   "execution_count": 3,
   "id": "f26be514",
   "metadata": {},
   "outputs": [],
   "source": [
    "# Solution to Exercise 2"
   ]
  },
  {
   "cell_type": "markdown",
   "id": "5566560f",
   "metadata": {},
   "source": [
    "### **Exercise 3: SNR as a function of exposure time (multiple short exposures)**\n",
    "- Plot the SNR as a function of number of exposures to achieve a total exposure time of 500 seconds.\n",
    "- Plot the SNR as a function of individual exposure time for each exposure to achieve a total exposure time of 500 seconds.\n",
    "- How does the SNR change between the following two cases?\n",
    "    - One long exposure of 500 seoconds\n",
    "    - 500 short exposures of 1 second each\n",
    "- Why does the SNR decrease when the number of exposures is increased? Hint: what term in the SNR equation does not depend on exposure time?\n",
    "- What would a telescope want to do multiple short exposures instead of a single long exposure?"
   ]
  },
  {
   "cell_type": "code",
   "execution_count": 4,
   "id": "a746cd2f",
   "metadata": {},
   "outputs": [],
   "source": [
    "# Solution to Exercise 3"
   ]
  },
  {
   "cell_type": "markdown",
   "id": "f4351658",
   "metadata": {},
   "source": [
    "### **Exercise 4: Interactive SNR versus exposure time**\n",
    "- Below, we write a function to interactively plot the SNR as a function of exposure time for a single long exposure.\n",
    "- In a new cell, type `snr_interactive`\n",
    "- Change the source count rate, read noise, sky noise, and dark current to see the effect of varying these parameters on the SNR.\n",
    "- Which parameter has the most signficiant impact on the SNR?"
   ]
  },
  {
   "cell_type": "code",
   "execution_count": 5,
   "id": "c68176cb",
   "metadata": {},
   "outputs": [],
   "source": [
    "# Exercise 4 setup\n",
    "from ipywidgets import interactive\n",
    "def int_get_SNR(source_count_rate,\n",
    "                read_noise,\n",
    "                sky_noise,\n",
    "                dark_current):\n",
    "    \"\"\"\n",
    "    Simple CCD equation. Given source count rate, exposure time, \n",
    "    read and sky noise, calculates the SNR.\n",
    "    inputs:\n",
    "    1) source_count_rate: (float) [electrons/second]\n",
    "    2) read_noise: (float) [electrons/pixel]\n",
    "    3) sky_noise: (float) [electrons/second/pixel]\n",
    "    4) dark_current: (float) [electrons/second/pixel]\n",
    "    returns:\n",
    "    1) signal-to-noise ratio: (float)\n",
    "    \"\"\"\n",
    "    exposure_time = np.arange(1, 501, 1)\n",
    "    n_exp = 1 # set num of exposures to 1\n",
    "    snr_list = []\n",
    "    \n",
    "    for exp_time in exposure_time:\n",
    "        signal = source_count_rate * exp_time * n_exp\n",
    "\n",
    "        # invidivual noise terms\n",
    "        noise_source = source_count_rate * exp_time * n_exp\n",
    "        noise_sky = sky_noise * exp_time * n_exp\n",
    "        noise_dark = dark_current * exp_time * n_exp\n",
    "        noise_read = n_exp * read_noise**2 \n",
    "\n",
    "        noise = np.sqrt(noise_source \n",
    "                      + noise_sky\n",
    "                      + noise_dark\n",
    "                      + noise_read)\n",
    "    \n",
    "        snr_list.append(signal/noise)\n",
    "    \n",
    "    plt.figure(figsize=(8, 4))\n",
    "    plt.plot(exposure_time, snr_list, color='black')\n",
    "    plt.xlabel(\"Exposure time [seconds]\")\n",
    "    plt.ylabel(\"Signal-to-noise ratio per pixel\")\n",
    "    plt.grid()\n",
    "    plt.show()    \n",
    "\n",
    "snr_interactive = interactive(int_get_SNR,\n",
    "                              source_count_rate=(0.1, 5, 0.1),\n",
    "                              read_noise=(1, 20, 1),\n",
    "                              sky_noise=(0.1, 5, 0.1),\n",
    "                              dark_current=(0.1, 5, 0.1)) \n",
    "\n",
    "for sim in snr_interactive.children:\n",
    "    try:\n",
    "        sim.continuous_update = True\n",
    "    except KeyError:\n",
    "        pass"
   ]
  },
  {
   "cell_type": "code",
   "execution_count": 6,
   "id": "6b78d985",
   "metadata": {},
   "outputs": [],
   "source": [
    "# Solution to Exercise 4"
   ]
  },
  {
   "cell_type": "code",
   "execution_count": null,
   "id": "69335aca",
   "metadata": {},
   "outputs": [],
   "source": []
  }
 ],
 "metadata": {
  "kernelspec": {
   "display_name": "Python 3",
   "language": "python",
   "name": "python3"
  },
  "language_info": {
   "codemirror_mode": {
    "name": "ipython",
    "version": 3
   },
   "file_extension": ".py",
   "mimetype": "text/x-python",
   "name": "python",
   "nbconvert_exporter": "python",
   "pygments_lexer": "ipython3",
   "version": "3.7.10"
  }
 },
 "nbformat": 4,
 "nbformat_minor": 5
}
