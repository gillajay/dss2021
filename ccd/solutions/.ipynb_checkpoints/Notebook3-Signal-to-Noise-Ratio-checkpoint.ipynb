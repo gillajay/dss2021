{
 "cells": [
  {
   "cell_type": "code",
   "execution_count": 1,
   "id": "36a85956",
   "metadata": {},
   "outputs": [],
   "source": [
    "import numpy as np\n",
    "from pathlib import Path\n",
    "from matplotlib import pyplot as plt\n",
    "from astropy.io import fits\n",
    "plt.rcParams.update({'font.size': 16})\n",
    "from mpl_toolkits.axes_grid1 import make_axes_locatable\n",
    "\n",
    "from convenience_functions import plot_image"
   ]
  },
  {
   "cell_type": "markdown",
   "id": "14f48575",
   "metadata": {},
   "source": [
    "# Signal-to-noise ratio\n",
    "- The signal-to-noise ratio (SNR) is a quantitity used to estimate the quality with which an astronomical source can be detected. \n",
    "- For a point source, the SNR per pixel is given by\n",
    "\n",
    "\\begin{equation}\n",
    "\\text{SNR} = \\frac{S_{s} t \\, n_{\\rm exp}}{{(S_{s}t\\, n_{\\rm exp} + S_{b} \\,t \\, n_{\\rm exp} + S_{d}\\,t \\, n_{\\rm exp} + R^{2} \\, n_{\\rm exp})}^{1/2}}\n",
    "\\tag{1}\n",
    "\\end{equation}\n",
    "\n",
    "- $S_{s}$: the total number of electrons per second per pixel from the source [electrons/sec]\n",
    "- $S_{b}$: the number of electrons per second per pixel from the sky background [electrons/sec/pixel]\n",
    "- $S_{d}$: the number of electrons per second per pixel due to dark (thermally excited) current [electrons/sec/pixel]\n",
    "- $R$ is the read noise (Gaussian distributed) due to the inherent process of reading the charge on a capacitor to convert to voltage, which then gets digitized to an analog-to-digital-unit (ADU) [electrons/pixel]\n",
    "- $n_{\\rm exp}$ is the number of exposuresthe number of electrons per second per pixel due to dark (thermally excited) current [electrons/sec/pixel]\n",
    "- $t$ is the exposure time per exposure"
   ]
  },
  {
   "cell_type": "markdown",
   "id": "67ac5155",
   "metadata": {},
   "source": [
    "### Exercise 1: SNR calculator\n",
    "- Write a function called `get_SNR` that calculates the SNR using the above equation.\n",
    "- The inputs of the function should be:\n",
    "    - `source_count_rate`: (float) the total number of electrons per second per pixel from the source [electrons/sec]\n",
    "    - `sky_noise`: (float) the number of electrons per second per pixel from the sky background [electrons/sec/pixel]\n",
    "    - `dark_current`: (float) the number of electrons per second per pixel due to dark (thermally excited) current [electrons/sec/pixel]\n",
    "    - `read_noise`: (float) [electrons/pixel]\n",
    "    - `exposure_time`: (float) the exposure time for each exposure [seconds]\n",
    "    - `n_exp`: (int) total number of exposure []\n",
    "- The function should return the (float) SNR."
   ]
  },
  {
   "cell_type": "code",
   "execution_count": 3,
   "id": "c8e58462",
   "metadata": {},
   "outputs": [],
   "source": [
    "# Solution to Exercise 1\n",
    "def get_SNR(source_count_rate,\n",
    "        read_noise,\n",
    "        sky_noise,\n",
    "        dark_current,\n",
    "        exposure_time,\n",
    "        n_exp=1):    \n",
    "    \"\"\"\n",
    "    Simple CCD equation. Given source count rate, exposure time, \n",
    "    read and sky noise, calculates the SNR.\n",
    "    inputs:\n",
    "    1) source_count_rate: (float) [electrons/second]\n",
    "    2) read_noise: (float) [electrons/pixel]\n",
    "    3) sky_noise: (float) [electrons/second/pixel]\n",
    "    4) dark_current: (float) [electrons/second/pixel]\n",
    "    5) exposure_time: (float) exposure time of sensor [seconds]\n",
    "    7) n_exp: (int) number of exposures \n",
    "    returns:\n",
    "    1) signal-to-noise ratio: (float)\n",
    "    \"\"\"\n",
    "    signal = source_count_rate * exposure_time * n_exp\n",
    "    \n",
    "    # invidivual noise terms\n",
    "    noise_source = source_count_rate * exposure_time * n_exp\n",
    "    noise_sky = sky_noise * exposure_time * n_exp\n",
    "    noise_dark = dark_current * exposure_time * n_exp\n",
    "    noise_read = n_exp * read_noise**2 \n",
    "    \n",
    "    noise = np.sqrt(noise_source \n",
    "                  + noise_sky\n",
    "                  + noise_dark\n",
    "                  + noise_read)\n",
    "    return signal / noise"
   ]
  },
  {
   "cell_type": "markdown",
   "id": "171532cd",
   "metadata": {},
   "source": [
    "### Exercise 2: Plot the SNR as a function of exposure time (single long exposure)\n",
    "- Using the `get_SNR` from Exercise 1, plot the SNR as a function of exposure time for a single long exposure by the camera.\n",
    "- Choose a source count rate of 0.5 [electrons/s/pixel]\n",
    "- Choose a background count rate of 0.5 [electrons/s/pixel]\n",
    "- Choose a dark current of 0.1 [electrons/s/pixel]\n",
    "- Choose a read noise of 10 [electrons/pixel]\n",
    "- Choose a single long exposure (ie `n_exp` = 1) rather than multiple short exposures.\n",
    "- Vary the `exposure_time` from 0 to 500 seconds in increments of 5 seconds.\n",
    "    - Hint, you may find the `numpy.arange` and `numpy.append` functions useful for this exercise.\n",
    "- Plot SNR (y-axis) and exposure time (x-axis).\n",
    "- Does the SNR increase or decrease with exposure time? Is the increase or decrease linear? Why or why not?"
   ]
  },
  {
   "cell_type": "code",
   "execution_count": 5,
   "id": "6cba8760",
   "metadata": {},
   "outputs": [
    {
     "data": {
      "image/png": "[encoded data removed]",
      "text/plain": [
       "<Figure size 576x288 with 1 Axes>"
      ]
     },
     "metadata": {
      "needs_background": "light"
     },
     "output_type": "display_data"
    }
   ],
   "source": [
    "# Solution to Exercise 2\n",
    "exp_times = np.arange(0, 505, 5)\n",
    "snr_list = []\n",
    "\n",
    "# Setup the parameters\n",
    "source_count_rate = 0.5\n",
    "read_noise = 10\n",
    "sky_noise = 0.5\n",
    "dark_current = 0.1\n",
    "n_exp = 1\n",
    "\n",
    "for exposure_time in exp_times:\n",
    "    snr_list.append(get_SNR(source_count_rate=source_count_rate,\n",
    "                        read_noise=read_noise,\n",
    "                        sky_noise=sky_noise,\n",
    "                        dark_current=dark_current,\n",
    "                        exposure_time=exposure_time,\n",
    "                        n_exp=n_exp))\n",
    "\n",
    "plt.figure(figsize=(8, 4))\n",
    "plt.plot(exp_times, snr_list, color='black')\n",
    "plt.xlabel(\"Exposure time (seconds)\")\n",
    "plt.ylabel(\"Signal-to-noise ratio per pixel\")\n",
    "plt.grid()\n",
    "plt.show()\n",
    "\n",
    "# The SNR increases with exposure time. This is because as the \n",
    "# exposure time increases, the sensor is detecting increasingly more\n",
    "# photons from the astrnomical point source. The increase in SNR\n",
    "# with exposure time is non-linear due to the square root in the\n",
    "# the noise term. "
   ]
  },
  {
   "cell_type": "markdown",
   "id": "dfbc12f5",
   "metadata": {},
   "source": [
    "### Exercise 3: Plot the SNR as a function of exposure time (multiple short exposures)\n",
    "- Plot the SNR as a function of number of exposures to achieve a total exposure time of 500 seconds.\n",
    "- Plot the SNR as a function of individual exposure time for each exposure to achieve a total exposure time of 500 seconds.\n",
    "- How does the SNR change between the following two cases?\n",
    "    - One long exposure of 500 seoconds\n",
    "    - 500 short exposures of 1 second each\n",
    "- Why does the SNR decrease when the number of exposures is increased? Hint: what term in the SNR equation does not depend on exposure time?\n",
    "- What would a telescope want to do multiple short exposures instead of a single long exposure?"
   ]
  },
  {
   "cell_type": "code",
   "execution_count": 7,
   "id": "78a5d870",
   "metadata": {},
   "outputs": [
    {
     "data": {
      "image/png": "[encoded data removed]",
      "text/plain": [
       "<Figure size 576x288 with 1 Axes>"
      ]
     },
     "metadata": {
      "needs_background": "light"
     },
     "output_type": "display_data"
    },
    {
     "data": {
      "image/png": "[encoded data removed]",
      "text/plain": [
       "<Figure size 576x288 with 1 Axes>"
      ]
     },
     "metadata": {
      "needs_background": "light"
     },
     "output_type": "display_data"
    }
   ],
   "source": [
    "# Solution to Exercise 3\n",
    "exposure_total = 500 # seconds\n",
    "short_exposures = np.arange(1, 501, 1)\n",
    "n_exposures = exposure_total / short_exposures\n",
    "\n",
    "# Setup the parameters\n",
    "source_count_rate = 0.5\n",
    "read_noise = 10\n",
    "sky_noise = 0.5\n",
    "dark_current = 0.1\n",
    "n_exp = 1\n",
    "\n",
    "snr_list = []\n",
    "\n",
    "for n_exp in n_exposures:\n",
    "    exposure_time = exposure_total / n_exp\n",
    "    snr_list.append(get_SNR(source_count_rate=source_count_rate,\n",
    "                        read_noise=read_noise,\n",
    "                        sky_noise=sky_noise,\n",
    "                        dark_current=dark_current,\n",
    "                        exposure_time=exposure_time,\n",
    "                        n_exp=n_exp))\n",
    "\n",
    "plt.figure(figsize=(8, 4))\n",
    "plt.plot(short_exposures, snr_list, color='black')\n",
    "plt.title(\"Exposure time of a single exposure to reach 500 seconds of total exposure\",\n",
    "         fontsize=13)\n",
    "plt.xlabel(\"Exposure time of a single exposure (s)\")\n",
    "plt.ylabel(\"Signal-to-noise ratio per pixel\")\n",
    "plt.grid()\n",
    "plt.show()\n",
    "\n",
    "plt.figure(figsize=(8, 4))\n",
    "plt.plot(n_exposures, snr_list, color='black')\n",
    "plt.title(\"Number of exposures required to reach 500 seconds\",\n",
    "         fontsize=13)\n",
    "plt.xlabel(\"Number of exposures required to reach 500 seconds\")\n",
    "plt.ylabel(\"Signal-to-noise ratio per pixel\")\n",
    "plt.grid()\n",
    "plt.show()\n",
    "\n",
    "# The SNR decreases when multiple short exposures are used instead of \n",
    "# of a single long exposure because the read noise increases for the\n",
    "# multiple short exposures each time an individual short exposure is \n",
    "# read out.\n",
    "\n",
    "# A telescope might want to do multiple short exposures rather than\n",
    "# a single long exposure because of pointing stability of the \n",
    "# telescope. If the pointing motors of the telescope cannot be \n",
    "# sufficiency stable for a total period of 500 seconds, but instead \n",
    "# can only be stable for up to 100 seconds, the telescope is better off\n",
    "# doing 5 x 100 second exposures rather than a long 500 second \n",
    "# exposure. A single long exposure can also be deteriorated by \n",
    "# satellite streaks, where if multiple short exposures are taken,\n",
    "# the exposures with satellite streaks can be discarded."
   ]
  },
  {
   "cell_type": "code",
   "execution_count": 9,
   "id": "95d411ec",
   "metadata": {},
   "outputs": [],
   "source": [
    "from ipywidgets import interactive\n",
    "\n",
    "def noise_image_int(bias_value=200,\n",
    "                   read_noise_std=10,\n",
    "                   gain=4.88,\n",
    "                   dark_current=0.1,\n",
    "                   hot_pixels_percentage=0.01,\n",
    "                   sky_noise_electrons=0.5,\n",
    "                   exposure=100,\n",
    "                   hot_pixels=False,\n",
    "                   num_columns=6):\n",
    "    \n",
    "    # Construct a blank image\n",
    "    blank_image = np.zeros([1000, 1000])\n",
    "    \n",
    "    # Construct a read noise only image\n",
    "    im_read_noise = get_read_noise(image=blank_image,\n",
    "                                   read_noise_std=read_noise_std,\n",
    "                                   gain=gain)\n",
    "    \n",
    "    # Construct a dark current only image\n",
    "    im_dark_current = get_dark_current(image=blank_image,\n",
    "                               dark_current=dark_current,\n",
    "                               gain=gain,\n",
    "                               exposure_time=exposure_time,\n",
    "                               hot_pixels=False)\n",
    "    \n",
    "    # Construct a sky noise only image\n",
    "    im_sky_noise = get_sky_bkg(image=blank_image,\n",
    "                                 sky_noise_electrons=sky_noise_electrons,\n",
    "                                 gain=gain,\n",
    "                                 exposure_time=exposure_time)\n",
    "    \n",
    "    # Construct a bias only image\n",
    "    im_bias = get_bias_level(image=blank_image,\n",
    "                         bias_value=bias_value,\n",
    "                         num_columns=num_columns)\n",
    "\n",
    "    noise = im_read_noise+im_dark_current+im_sky_noise+im_bias\n",
    "    \n",
    "    # plot\n",
    "    plot_image(image=noise, title=\"Noise image\")\n",
    "    \n",
    "demo = interactive(noise_image_int, \n",
    "                bias_value=(10,500,10), \n",
    "                dark_current=(0.0,1,0.1),\n",
    "                hot_pixels_percentage=(0, 1, 0.01),\n",
    "                sky_noise_electrons=(0.01, 2.01, 0.01),\n",
    "                gain=(0.5, 10, 0.25), \n",
    "                read=(0, 50, 5),\n",
    "                num_columns=(0, 100, 1),\n",
    "                exposure=(0, 500, 20))\n",
    "\n",
    "for kid in demo.children:\n",
    "    try:\n",
    "        kid.continuous_update = True\n",
    "    except KeyError:\n",
    "        pass"
   ]
  },
  {
   "cell_type": "markdown",
   "id": "34359844",
   "metadata": {},
   "source": [
    "### Exercise 4: Interactive SNR versus exposure time\n",
    "- Below, we write a function to interactively plot the SNR as a function of exposure time for a single long exposure.\n",
    "- In a new cell, type `snr_interactive`\n",
    "- Change the source count rate, read noise, sky noise, and dark current to see the effect of varying these parameters on the SNR.\n",
    "- Which parameter has the most signficiant impact on the SNR?"
   ]
  },
  {
   "cell_type": "code",
   "execution_count": 10,
   "id": "0a9fd6a4",
   "metadata": {},
   "outputs": [],
   "source": [
    "def int_get_SNR(source_count_rate,\n",
    "                read_noise,\n",
    "                sky_noise,\n",
    "                dark_current):\n",
    "    \"\"\"\n",
    "    Simple CCD equation. Given source count rate, exposure time, \n",
    "    read and sky noise, calculates the SNR.\n",
    "    inputs:\n",
    "    1) source_count_rate: (float) [electrons/second]\n",
    "    2) read_noise: (float) [electrons/pixel]\n",
    "    3) sky_noise: (float) [electrons/second/pixel]\n",
    "    4) dark_current: (float) [electrons/second/pixel]\n",
    "    returns:\n",
    "    1) signal-to-noise ratio: (float)\n",
    "    \"\"\"\n",
    "    exposure_time = np.arange(1, 501, 1)\n",
    "    n_exp = 1 # set num of exposures to 1\n",
    "    snr_list = []\n",
    "    \n",
    "    for exp_time in exposure_time:\n",
    "        signal = source_count_rate * exp_time * n_exp\n",
    "\n",
    "        # invidivual noise terms\n",
    "        noise_source = source_count_rate * exp_time * n_exp\n",
    "        noise_sky = sky_noise * exp_time * n_exp\n",
    "        noise_dark = dark_current * exp_time * n_exp\n",
    "        noise_read = n_exp * read_noise**2 \n",
    "\n",
    "        noise = np.sqrt(noise_source \n",
    "                      + noise_sky\n",
    "                      + noise_dark\n",
    "                      + noise_read)\n",
    "    \n",
    "        snr_list.append(signal/noise)\n",
    "    \n",
    "    plt.figure(figsize=(8, 4))\n",
    "    plt.plot(exposure_time, snr_list, color='black')\n",
    "    plt.xlabel(\"Exposure time [seconds]\")\n",
    "    plt.ylabel(\"Signal-to-noise ratio per pixel\")\n",
    "    plt.grid()\n",
    "    plt.show()    \n",
    "\n",
    "snr_interactive = interactive(int_get_SNR,\n",
    "                              source_count_rate=(0.1, 5, 0.1),\n",
    "                              read_noise=(1, 20, 1),\n",
    "                              sky_noise=(0.1, 5, 0.1),\n",
    "                              dark_current=(0.1, 5, 0.1)) \n",
    "\n",
    "for sim in snr_interactive.children:\n",
    "    try:\n",
    "        sim.continuous_update = True\n",
    "    except KeyError:\n",
    "        pass"
   ]
  },
  {
   "cell_type": "code",
   "execution_count": 11,
   "id": "2f9eb68b",
   "metadata": {},
   "outputs": [
    {
     "data": {
      "application/vnd.jupyter.widget-view+json": {
       "model_id": "eba40d64bdad45aca429d1b5ae82b9c4",
       "version_major": 2,
       "version_minor": 0
      },
      "text/plain": [
       "interactive(children=(FloatSlider(value=2.5000000000000004, description='source_count_rate', max=5.0, min=0.1)…"
      ]
     },
     "metadata": {},
     "output_type": "display_data"
    }
   ],
   "source": [
    "# Solution to Exercise 5\n",
    "snr_interactive\n",
    "\n",
    "# The source count rate has the most significant impact on the SNR\n",
    "# as the source rate is part of the signal itself. "
   ]
  },
  {
   "cell_type": "code",
   "execution_count": null,
   "id": "36157fd2",
   "metadata": {},
   "outputs": [],
   "source": []
  }
 ],
 "metadata": {
  "kernelspec": {
   "display_name": "Python 3",
   "language": "python",
   "name": "python3"
  },
  "language_info": {
   "codemirror_mode": {
    "name": "ipython",
    "version": 3
   },
   "file_extension": ".py",
   "mimetype": "text/x-python",
   "name": "python",
   "nbconvert_exporter": "python",
   "pygments_lexer": "ipython3",
   "version": "3.7.10"
  }
 },
 "nbformat": 4,
 "nbformat_minor": 5
}
